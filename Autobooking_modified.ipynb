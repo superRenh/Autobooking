{
 "cells": [
  {
   "cell_type": "code",
   "execution_count": null,
   "metadata": {},
   "outputs": [],
   "source": [
    "# modified by greenteafree\n",
    "# date: 20200302\n",
    "\n",
    "import time\n",
    "from selenium import webdriver\n",
    "import selenium.webdriver.support.ui as ui\n",
    "from selenium.webdriver.common.keys import Keys\n",
    "from selenium.common.exceptions import ElementClickInterceptedException\n",
    "\n",
    "user_name = ''\n",
    "pwd = ''\n",
    "\n",
    "# chrome driver 儲存路徑\n",
    "chromedriver = './chromedriver'\n",
    "driver = webdriver.Chrome(chromedriver)\n",
    "\n",
    "# url eip登入頁面or課程報名頁面\n",
    "driver.get('https://eip.ylhealth.org/SignUp/Signing')\n",
    "\n",
    "# 輸入工號、密碼\n",
    "login_User = driver.find_element_by_name('UserName')\n",
    "login_User.send_keys(user_name)\n",
    "login_psswd = driver.find_element_by_xpath('/html/body/div/div/div/section/form/div[2]/input')\n",
    "login_psswd.send_keys(pwd)\n",
    "\n",
    "# 登入\n",
    "log_in_xpath = '/html/body/div/div/div/section/form/div[3]/button[1]'\n",
    "driver.find_element_by_xpath(log_in_xpath).click()\n",
    "\n",
    "# 按活動\n",
    "act_xpath = '//*[@id=\"datagrid-row-r1-2-2\"]/td[1]/div/button/i' # //*[@id=\"datagrid-row-r1-2-1\"]/td[1]/div/button/i\n",
    "wait = ui.WebDriverWait(driver, 10)\n",
    "wait.until(lambda driver: driver.find_element_by_xpath(act_xpath))\n",
    "driver.find_element_by_xpath(act_xpath).click()\n",
    "\n",
    "# 按報名\n",
    "while True:\n",
    "    try:\n",
    "        \n",
    "        # 我要報名！\n",
    "        sign_up_xpath = '//*[@id=\"spanSignText\"]/span'\n",
    "        wait = ui.WebDriverWait(driver, 10)\n",
    "        wait.until(lambda driver: driver.find_element_by_xpath(act_xpath))\n",
    "        driver.find_element_by_xpath(act_xpath).click()\n",
    "        break\n",
    "        \n",
    "    except ElementClickInterceptedException:\n",
    "        \n",
    "        # 重刷\n",
    "        time.sleep(0.2)\n",
    "        refresh_xpath = '//*[@id=\"btnSignUpReload\"]/i'\n",
    "        driver.find_element_by_xpath(refresh_xpath).click()\n",
    "\n",
    "print('Completed.')"
   ]
  },
  {
   "cell_type": "code",
   "execution_count": null,
   "metadata": {},
   "outputs": [],
   "source": []
  }
 ],
 "metadata": {
  "kernelspec": {
   "display_name": "Python 3",
   "language": "python",
   "name": "python3"
  },
  "language_info": {
   "codemirror_mode": {
    "name": "ipython",
    "version": 3
   },
   "file_extension": ".py",
   "mimetype": "text/x-python",
   "name": "python",
   "nbconvert_exporter": "python",
   "pygments_lexer": "ipython3",
   "version": "3.7.6"
  }
 },
 "nbformat": 4,
 "nbformat_minor": 2
}
