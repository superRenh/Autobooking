{
 "cells": [
  {
   "cell_type": "code",
   "execution_count": 2,
   "metadata": {},
   "outputs": [
    {
     "ename": "TimeoutException",
     "evalue": "Message: \n",
     "output_type": "error",
     "traceback": [
      "\u001b[0;31m---------------------------------------------------------------------------\u001b[0m",
      "\u001b[0;31mTimeoutException\u001b[0m                          Traceback (most recent call last)",
      "\u001b[0;32m<ipython-input-2-22d4d9f0fe57>\u001b[0m in \u001b[0;36m<module>\u001b[0;34m\u001b[0m\n\u001b[1;32m     24\u001b[0m \u001b[0;31m# driver.find_element_by_xpath('//*[@id=\"datagrid-row-r1-2-1\"]/td[1]/div/button')\u001b[0m\u001b[0;34m\u001b[0m\u001b[0;34m\u001b[0m\u001b[0;34m\u001b[0m\u001b[0m\n\u001b[1;32m     25\u001b[0m \u001b[0;34m\u001b[0m\u001b[0m\n\u001b[0;32m---> 26\u001b[0;31m \u001b[0mwait\u001b[0m\u001b[0;34m.\u001b[0m\u001b[0muntil\u001b[0m\u001b[0;34m(\u001b[0m\u001b[0;32mlambda\u001b[0m \u001b[0mdriver\u001b[0m\u001b[0;34m:\u001b[0m \u001b[0mdriver\u001b[0m\u001b[0;34m.\u001b[0m\u001b[0mfind_element_by_class_name\u001b[0m\u001b[0;34m(\u001b[0m\u001b[0;34m\"easyui-linkbutton btn btn-success btn-lg btn-block l-btn l-btn-large\"\u001b[0m\u001b[0;34m)\u001b[0m\u001b[0;34m)\u001b[0m\u001b[0;34m\u001b[0m\u001b[0;34m\u001b[0m\u001b[0m\n\u001b[0m\u001b[1;32m     27\u001b[0m \u001b[0mdriver\u001b[0m\u001b[0;34m.\u001b[0m\u001b[0mfind_element_by_class_name\u001b[0m\u001b[0;34m(\u001b[0m\u001b[0;34m\"easyui-linkbutton btn btn-success btn-lg btn-block l-btn l-btn-large\"\u001b[0m\u001b[0;34m)\u001b[0m\u001b[0;31m#.send_keys(Keys.ENTER)\u001b[0m\u001b[0;34m\u001b[0m\u001b[0;34m\u001b[0m\u001b[0m\n\u001b[1;32m     28\u001b[0m \u001b[0;34m\u001b[0m\u001b[0m\n",
      "\u001b[0;32m/usr/local/Caskroom/miniconda/base/envs/healthon/lib/python3.6/site-packages/selenium/webdriver/support/wait.py\u001b[0m in \u001b[0;36muntil\u001b[0;34m(self, method, message)\u001b[0m\n\u001b[1;32m     78\u001b[0m             \u001b[0;32mif\u001b[0m \u001b[0mtime\u001b[0m\u001b[0;34m.\u001b[0m\u001b[0mtime\u001b[0m\u001b[0;34m(\u001b[0m\u001b[0;34m)\u001b[0m \u001b[0;34m>\u001b[0m \u001b[0mend_time\u001b[0m\u001b[0;34m:\u001b[0m\u001b[0;34m\u001b[0m\u001b[0;34m\u001b[0m\u001b[0m\n\u001b[1;32m     79\u001b[0m                 \u001b[0;32mbreak\u001b[0m\u001b[0;34m\u001b[0m\u001b[0;34m\u001b[0m\u001b[0m\n\u001b[0;32m---> 80\u001b[0;31m         \u001b[0;32mraise\u001b[0m \u001b[0mTimeoutException\u001b[0m\u001b[0;34m(\u001b[0m\u001b[0mmessage\u001b[0m\u001b[0;34m,\u001b[0m \u001b[0mscreen\u001b[0m\u001b[0;34m,\u001b[0m \u001b[0mstacktrace\u001b[0m\u001b[0;34m)\u001b[0m\u001b[0;34m\u001b[0m\u001b[0;34m\u001b[0m\u001b[0m\n\u001b[0m\u001b[1;32m     81\u001b[0m \u001b[0;34m\u001b[0m\u001b[0m\n\u001b[1;32m     82\u001b[0m     \u001b[0;32mdef\u001b[0m \u001b[0muntil_not\u001b[0m\u001b[0;34m(\u001b[0m\u001b[0mself\u001b[0m\u001b[0;34m,\u001b[0m \u001b[0mmethod\u001b[0m\u001b[0;34m,\u001b[0m \u001b[0mmessage\u001b[0m\u001b[0;34m=\u001b[0m\u001b[0;34m''\u001b[0m\u001b[0;34m)\u001b[0m\u001b[0;34m:\u001b[0m\u001b[0;34m\u001b[0m\u001b[0;34m\u001b[0m\u001b[0m\n",
      "\u001b[0;31mTimeoutException\u001b[0m: Message: \n"
     ]
    }
   ],
   "source": [
    "from selenium import webdriver\n",
    "import time\n",
    "import selenium.webdriver.support.ui as ui\n",
    "from selenium.webdriver.common.keys import Keys\n",
    "\n",
    "# chrome driver 儲存路徑\n",
    "chromedriver = \"/usr/local/bin/chromedriver\"\n",
    "driver = webdriver.Chrome(chromedriver)\n",
    "# url eip登入頁面or課程報名頁面\n",
    "# driver.get(\"https://eip.ylhealth.org/SignUp/Signing?P_EventId=TzhuNXBVNExGbUR3dXdtUFQ5T0EzQT09\")\n",
    "driver.get(\"https://eip.ylhealth.org/SignUp/Signing\")\n",
    "# 輸入工號、密碼\n",
    "login_User = driver.find_element_by_name(\"UserName\")\n",
    "login_User.send_keys(\"工號\")\n",
    "login_psswd = driver.find_element_by_xpath(\"/html/body/div/div/div/section/form/div[2]/input\")\n",
    "login_psswd.send_keys(\"密碼\")\n",
    "# 按登入\n",
    "driver.find_element_by_xpath(\"/html/body/div/div/div/section/form/div[3]/button[1]\").click()\n",
    "\n",
    "# 按第二個活動\"row-r1-2-1\"\n",
    "wait = ui.WebDriverWait(driver, 10)\n",
    "wait.until(lambda driver: driver.find_element_by_xpath('//*[@id=\"datagrid-row-r1-2-1\"]/td[1]/div/button'))\n",
    "driver.find_element_by_xpath('//*[@id=\"datagrid-row-r1-2-1\"]/td[1]/div/button').click()\n",
    "\n",
    "# 嘗試按“我要報名”的按鈕\n",
    "# way1: 鎖定window ->失敗\n",
    "# all_handles = driver.window_handles \n",
    "# print(all_handles)\n",
    "# driver.switch_to.window(all_handles[0])\n",
    "# wait.until(lambda driver: driver.find_element_by_xpath('//*[@id=\"datagrid-row-r1-2-1\"]/td[1]/div/button'))\n",
    "# driver.find_element_by_xpath('//*[@id=\"datagrid-row-r1-2-1\"]/td[1]/div/button')\n",
    "\n",
    "# 直接找“我要報名”class name -> 失敗，無法鎖定\n",
    "wait.until(lambda driver: driver.find_element_by_class_name(\"easyui-linkbutton btn btn-success btn-lg btn-block l-btn l-btn-large\"))\n",
    "driver.find_element_by_class_name(\"easyui-linkbutton btn btn-success btn-lg btn-block l-btn l-btn-large\")#.send_keys(Keys.ENTER)\n",
    "\n",
    "\n",
    "# 直接找“我要報名” link text ->失敗\n",
    "# while True:\n",
    "#     try:\n",
    "#         signup = driver.find_element_by_link_text(\"我  要  報  名\")\n",
    "#         driver.execute_script(\"arguments[0].click();\", signup)\n",
    "# #         signup = driver.find_element_by_xpath('//*[@id=\"btnSignUp\"]')\n",
    "# #         signup.click()\n",
    "#         print(\"success\")\n",
    "#         break\n",
    "#     except:\n",
    "#         time.sleep(0.001)\n",
    "#         print(\"sleep 1ms\")"
   ]
  }
 ],
 "metadata": {
  "kernelspec": {
   "display_name": "Python 3",
   "language": "python",
   "name": "python3"
  },
  "language_info": {
   "codemirror_mode": {
    "name": "ipython",
    "version": 3
   },
   "file_extension": ".py",
   "mimetype": "text/x-python",
   "name": "python",
   "nbconvert_exporter": "python",
   "pygments_lexer": "ipython3",
   "version": "3.6.9"
  }
 },
 "nbformat": 4,
 "nbformat_minor": 2
}
